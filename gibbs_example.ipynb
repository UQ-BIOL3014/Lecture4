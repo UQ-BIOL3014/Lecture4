{
 "cells": [
  {
   "cell_type": "markdown",
   "metadata": {},
   "source": [
    "# Investigate Gibbs sampling convergence #"
   ]
  },
  {
   "cell_type": "code",
   "execution_count": 3,
   "metadata": {
    "collapsed": false
   },
   "outputs": [
    {
     "name": "stdout",
     "output_type": "stream",
     "text": [
      "LL @     0=\t10.68\n",
      "LL @   100=\t16.41\n",
      "LL @   200=\t16.41\n",
      "LL @   300=\t29.69\n",
      "\n",
      "LL @     0=\t21.28\n",
      "LL @   100=\t24.50\n",
      "LL @   200=\t22.80\n",
      "LL @   300=\t15.90\n",
      "\n",
      "LL @     0=\t10.30\n",
      "LL @   100=\t22.42\n",
      "LL @   200=\t22.14\n",
      "LL @   300=\t24.50\n",
      "\n",
      "LL @     0=\t12.20\n",
      "LL @   100=\t24.50\n",
      "LL @   200=\t22.14\n",
      "LL @   300=\t22.14\n",
      "\n",
      "LL @     0=\t14.34\n",
      "LL @   100=\t38.93\n",
      "LL @   200=\t22.14\n",
      "LL @   300=\t22.14\n",
      "\n",
      "LL @     0=\t12.74\n",
      "LL @   100=\t22.14\n",
      "LL @   200=\t16.04\n",
      "LL @   300=\t35.48\n",
      "\n",
      "LL @     0=\t13.64\n",
      "LL @   100=\t22.80\n",
      "LL @   200=\t38.93\n",
      "LL @   300=\t22.14\n",
      "\n",
      "LL @     0=\t11.86\n",
      "LL @   100=\t14.50\n",
      "LL @   200=\t22.14\n",
      "LL @   300=\t16.34\n",
      "\n",
      "LL @     0=\t21.96\n",
      "LL @   100=\t38.93\n",
      "LL @   200=\t22.80\n",
      "LL @   300=\t38.93\n",
      "\n",
      "LL @     0=\t12.21\n",
      "LL @   100=\t30.13\n",
      "LL @   200=\t21.69\n",
      "LL @   300=\t24.50\n",
      "\n"
     ]
    }
   ],
   "source": [
    "\n",
    "\n",
    "\n",
    "\n",
    "\n",
    "from uqbinfpy import sequence\n",
    "from uqbinfpy import prob\n",
    "from uqbinfpy import seqsymbol\n",
    "from uqbinfpy import gibbs\n",
    "\n",
    "seqs = sequence.readFastaFile('test.fa', seqsymbol.DNA_Alphabet)\n",
    "W = 7 # the width of the motif sought\n",
    "\n",
    "for test in range(0, 10):\n",
    "    g = gibbs.GibbsMotif(seqs, W)\n",
    "    q = g.discover()\n",
    "    p = g.getBackground()\n",
    "    a = gibbs.getAlignment(seqs, q, p)\n",
    "    k = 0\n",
    "    for seq in seqs:\n",
    "        print \"%s \\t%s\" % (seq.name, seq[a[k]:a[k]+W])\n",
    "        k += 1\n",
    "    print\n",
    "    \n",
    "    \n",
    "    \n",
    "    \n",
    "    \n",
    "    \n",
    "    \n",
    "    \n",
    "    \n",
    "    \n",
    "    \n",
    "    "
   ]
  },
  {
   "cell_type": "code",
   "execution_count": null,
   "metadata": {
    "collapsed": true
   },
   "outputs": [],
   "source": []
  },
  {
   "cell_type": "code",
   "execution_count": null,
   "metadata": {
    "collapsed": true
   },
   "outputs": [],
   "source": []
  },
  {
   "cell_type": "code",
   "execution_count": null,
   "metadata": {
    "collapsed": true
   },
   "outputs": [],
   "source": []
  }
 ],
 "metadata": {
  "kernelspec": {
   "display_name": "Python 2",
   "language": "python",
   "name": "python2"
  },
  "language_info": {
   "codemirror_mode": {
    "name": "ipython",
    "version": 2
   },
   "file_extension": ".py",
   "mimetype": "text/x-python",
   "name": "python",
   "nbconvert_exporter": "python",
   "pygments_lexer": "ipython2",
   "version": "2.7.8"
  }
 },
 "nbformat": 4,
 "nbformat_minor": 0
}
